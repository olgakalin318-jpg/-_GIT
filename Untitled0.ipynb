{
  "nbformat": 4,
  "nbformat_minor": 0,
  "metadata": {
    "colab": {
      "provenance": [],
      "mount_file_id": "1FfqmD5OLU9kUSFLlz0NpH-8sDoxpDl5h",
      "authorship_tag": "ABX9TyMZMPn9E4+ic62n4snf/hUh",
      "include_colab_link": true
    },
    "kernelspec": {
      "name": "python3",
      "display_name": "Python 3"
    },
    "language_info": {
      "name": "python"
    }
  },
  "cells": [
    {
      "cell_type": "markdown",
      "metadata": {
        "id": "view-in-github",
        "colab_type": "text"
      },
      "source": [
        "<a href=\"https://colab.research.google.com/github/olgakalin318-jpg/-_GIT/blob/main/Untitled0.ipynb\" target=\"_parent\"><img src=\"https://colab.research.google.com/assets/colab-badge.svg\" alt=\"Open In Colab\"/></a>"
      ]
    },
    {
      "cell_type": "markdown",
      "source": [],
      "metadata": {
        "id": "CipMtDgWHQd1"
      }
    },
    {
      "cell_type": "markdown",
      "source": [
        "Это моё первое текстовое поле"
      ],
      "metadata": {
        "id": "dExwY_hjHSUi"
      }
    },
    {
      "cell_type": "code",
      "source": [
        "print (\"это моё первое кодовое поле\")"
      ],
      "metadata": {
        "colab": {
          "base_uri": "https://localhost:8080/"
        },
        "id": "NBLFSpUdHXHC",
        "outputId": "1419d528-d7cc-4574-9200-cd540b770f0b"
      },
      "execution_count": 4,
      "outputs": [
        {
          "output_type": "stream",
          "name": "stdout",
          "text": [
            "это моё первое кодовое поле\n"
          ]
        }
      ]
    }
  ]
}